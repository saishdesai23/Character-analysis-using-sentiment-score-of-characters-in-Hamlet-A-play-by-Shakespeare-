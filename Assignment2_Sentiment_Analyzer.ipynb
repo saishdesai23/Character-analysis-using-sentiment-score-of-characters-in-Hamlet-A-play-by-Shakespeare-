{
  "cells": [
    {
      "cell_type": "markdown",
      "metadata": {
        "id": "view-in-github",
        "colab_type": "text"
      },
      "source": [
        "<a href=\"https://colab.research.google.com/github/saishdesai23/Sentiment-Analysis/blob/main/Assignment2_Sentiment_Analyzer.ipynb\" target=\"_parent\"><img src=\"https://colab.research.google.com/assets/colab-badge.svg\" alt=\"Open In Colab\"/></a>"
      ]
    },
    {
      "cell_type": "markdown",
      "source": [
        "# Character sketch using Sentiment Analysis \n",
        "## Author - Saish Desai (sbdesai2)\n",
        "## Assingment 2\n",
        "\n",
        "This project involves studying characters in a play and analysing their characteristics using the Vader Sentiment Analyser. We extract dialogues of all characters in a play and quantify there characteritics using sentiments scores associated with their dialogues. For calculating the sentiment score for each character we make use of the VADER sentiment analyzer.\n",
        "\n",
        "## Reference Articles\n",
        "1) VADER ( Valence Aware Dictionary for Sentiment Reasoning) - https://towardsdatascience.com/sentimental-analysis-using-vader-a3415fef7664"
      ],
      "metadata": {
        "id": "IaYmuDHyFgFa"
      },
      "id": "IaYmuDHyFgFa"
    },
    {
      "cell_type": "markdown",
      "source": [
        "1. Importing all the required packages"
      ],
      "metadata": {
        "id": "xQNOuPnfFlfd"
      },
      "id": "xQNOuPnfFlfd"
    },
    {
      "cell_type": "code",
      "execution_count": 2,
      "id": "416ea122",
      "metadata": {
        "id": "416ea122",
        "outputId": "9a3c2394-5c31-4336-8cf3-b8a2be49610b",
        "colab": {
          "base_uri": "https://localhost:8080/"
        }
      },
      "outputs": [
        {
          "output_type": "stream",
          "name": "stdout",
          "text": [
            "[nltk_data] Downloading package vader_lexicon to /root/nltk_data...\n"
          ]
        },
        {
          "output_type": "stream",
          "name": "stderr",
          "text": [
            "/usr/local/lib/python3.7/dist-packages/nltk/twitter/__init__.py:20: UserWarning: The twython library has not been installed. Some functionality from the twitter package will not be available.\n",
            "  warnings.warn(\"The twython library has not been installed. \"\n"
          ]
        }
      ],
      "source": [
        "# importing all required libraries\n",
        "import numpy as np\n",
        "import pandas as pd\n",
        "import requests\n",
        "\n",
        "# importing libraries for sentiment analysis\n",
        "import nltk\n",
        "nltk.download('vader_lexicon')\n",
        "from nltk.sentiment.vader import SentimentIntensityAnalyzer\n",
        "from textblob import TextBlob\n",
        "# !pip install flair\n",
        "# from flair.models import TextClassifier\n",
        "# from flair.data import Sentence\n",
        "\n",
        "# importing packages for text pre-porcessing\n",
        "from nltk.corpus import stopwords\n",
        "from bs4 import BeautifulSoup # package used for web scrapping to remove the HTML tags from the text ( not needed here)\n",
        "import re # A package dealing with regular experession to remove punctuation and numbers\n",
        "from nltk.stem import PorterStemmer\n",
        "from nltk.stem.wordnet import WordNetLemmatizer\n",
        "from nltk.stem import SnowballStemmer\n",
        "from nltk.corpus import wordnet\n",
        "\n",
        "import spacy\n"
      ]
    },
    {
      "cell_type": "markdown",
      "source": [
        "2. Scarpping the data pertaining to the play from the html file available on Project Gutenberg"
      ],
      "metadata": {
        "id": "zVVg7ZBKF341"
      },
      "id": "zVVg7ZBKF341"
    },
    {
      "cell_type": "code",
      "execution_count": 3,
      "id": "6d2ac6b7",
      "metadata": {
        "id": "6d2ac6b7"
      },
      "outputs": [],
      "source": [
        "# Extracting book text link\n",
        "def url_to_html(website_link : str,book_id : int):\n",
        "    \"\"\"\n",
        "    A function to get the website link and book id and return the html parsed format of the chosen book.\n",
        "    :param website_link: link of the website where books are stored\n",
        "    :param book_id: id of the book for which the data is to be extracted\n",
        "    :returns: returns content from the chosen webpage in html format\n",
        "    \"\"\"\n",
        "    ebook_link = website_link + \"/ebooks/\" + book_id\n",
        "    headers = {'Saish Desai': 'Web scraper - school project (sbdesai2@illinois.edu)'}\n",
        "    book = requests.get(ebook_link, params = None) #using get request to get the website link for chosen book\n",
        "    if book.status_code == 200:\n",
        "        soup = BeautifulSoup(book.text, 'html.parser')# using the BeaitifulSoup module to parse the html format\n",
        "        link = soup.find(type=re.compile(\"text/html\")) # selecting tag to extract html format of the book\n",
        "        text_link  = link.get('href')\n",
        "        ebook_text_link = website_link + text_link #link for html format of the book\n",
        "        s = requests.Session()\n",
        "        book_data = s.get(ebook_text_link)\n",
        "        print(ebook_text_link)\n",
        "        soup_data = BeautifulSoup(book_data.text, 'html.parser')\n",
        "        return soup_data\n",
        "    else:\n",
        "        print(\"Error:\",book.status_code)"
      ]
    },
    {
      "cell_type": "markdown",
      "source": [
        "Please enter the bookID as \"1524\""
      ],
      "metadata": {
        "id": "VlKWsu0DfTO7"
      },
      "id": "VlKWsu0DfTO7"
    },
    {
      "cell_type": "code",
      "execution_count": 4,
      "id": "064edcc7",
      "metadata": {
        "id": "064edcc7",
        "outputId": "87f939f0-4164-4666-9807-2133d1bac585",
        "colab": {
          "base_uri": "https://localhost:8080/"
        }
      },
      "outputs": [
        {
          "output_type": "stream",
          "name": "stdout",
          "text": [
            "Enter Book ID: 1524\n",
            "https://www.gutenberg.org/files/1524/1524-h/1524-h.htm\n"
          ]
        }
      ],
      "source": [
        "website_link = \"https://www.gutenberg.org\"\n",
        "book_id = input(\"Enter Book ID: \")\n",
        "soup_data = url_to_html(website_link,book_id)\n",
        "# print(soup_data)"
      ]
    },
    {
      "cell_type": "markdown",
      "source": [
        "3. Listing all the characters names from the play"
      ],
      "metadata": {
        "id": "LZEXRtXWF72u"
      },
      "id": "LZEXRtXWF72u"
    },
    {
      "cell_type": "code",
      "execution_count": 5,
      "id": "72022c6f",
      "metadata": {
        "id": "72022c6f",
        "colab": {
          "base_uri": "https://localhost:8080/"
        },
        "outputId": "04c3275f-4891-4e95-9a4e-608dfdcf9e70"
      },
      "outputs": [
        {
          "output_type": "stream",
          "name": "stdout",
          "text": [
            "Following is the list of characters in the play: \n",
            "['HAMLET', 'CLAUDIUS', 'TheGHOSTofthelateking', 'GERTRUDE', 'POLONIUS', 'LAERTES', 'OPHELIA', 'HORATIO', 'FORTINBRAS', 'VOLTEMAND', 'CORNELIUS', 'ROSENCRANTZ', 'GUILDENSTERN', 'MARCELLUS', 'BARNARDO', 'FRANCISCO', 'OSRIC', 'REYNALDO', 'Players', 'AGentleman', 'APriest', 'TwoClowns', 'ACaptain', 'EnglishAmbassadors', 'Lords']\n"
          ]
        }
      ],
      "source": [
        "# Extracting list of characters from the play\n",
        "characters = []\n",
        "for ele in soup_data.find_all(\"h3\"):\n",
        "    if ele.text == \" Dramatis PersonÃ¦ \":\n",
        "        a = [ele.split(\",\") for ele in ele.find_next('p').get_text().split(\"\\n\")]\n",
        "        # print(a)\n",
        "for ele in a:\n",
        "    ele[0] = re.sub(\"[^a-zA-Z]\",\"\",ele[0])\n",
        "    if ele[0] != \"\":\n",
        "      characters.append(ele[0])\n",
        "print(\"Following is the list of characters in the play: \")\n",
        "print(characters)"
      ]
    },
    {
      "cell_type": "markdown",
      "source": [
        "4. Extracting all the dialouges of both the characeters"
      ],
      "metadata": {
        "id": "UWqHuwVhGJOv"
      },
      "id": "UWqHuwVhGJOv"
    },
    {
      "cell_type": "code",
      "source": [
        "act = [] #list storing all the dialouges from the play along with their respective character\n",
        "hamlet = [] # list storing all the dialogues of Hamlet\n",
        "claudius = [] # list storing all the dialogues of Claudius\n",
        "for ele in soup_data.find_all(\"div\",\"chapter\"):\n",
        "    act+=[ele.text.split(\"\\n\") for ele in ele.find_all_next(\"p\")]\n",
        "print(\"Dialogues in the act\")\n",
        "print(act[:10])"
      ],
      "metadata": {
        "colab": {
          "base_uri": "https://localhost:8080/"
        },
        "id": "BX0wRyreGOJD",
        "outputId": "6ee43df3-58e9-45d9-a56a-1e1e9b0180fa"
      },
      "id": "BX0wRyreGOJD",
      "execution_count": 6,
      "outputs": [
        {
          "output_type": "stream",
          "name": "stdout",
          "text": [
            "Dialogues in the act\n",
            "[[' Enter Francisco and\\r', 'Barnardo, two sentinels.'], ['BARNARDO.\\r', 'Who’s there?', ''], ['FRANCISCO.\\r', 'Nay, answer me. Stand and unfold yourself.', ''], ['BARNARDO.\\r', 'Long live the King!', ''], ['FRANCISCO.\\r', 'Barnardo?', ''], ['BARNARDO.\\r', 'He.', ''], ['FRANCISCO.\\r', 'You come most carefully upon your hour.', ''], ['BARNARDO.\\r', '’Tis now struck twelve. Get thee to bed, Francisco.', ''], ['FRANCISCO.\\r', 'For this relief much thanks. ’Tis bitter cold,\\r', 'And I am sick at heart.', ''], ['BARNARDO.\\r', 'Have you had quiet guard?', '']]\n"
          ]
        }
      ]
    },
    {
      "cell_type": "code",
      "execution_count": 7,
      "id": "510bc4d2",
      "metadata": {
        "id": "510bc4d2"
      },
      "outputs": [],
      "source": [
        "act = []\n",
        "hamlet = [] # list storing all the dialogues of Hamlet\n",
        "claudius = [] # list storing all the dialogues of Claudius\n",
        "for ele in soup_data.find_all(\"div\",\"chapter\"):\n",
        "    act+=[ele.text.split(\"\\n\") for ele in ele.find_all_next(\"p\")]\n",
        "\n",
        "# storing dialouges of Hamlet in a list (Protagonist) and Claudius in a list (Antagonist)\n",
        "for ele in act:\n",
        "    if ele[0][:-1] == \"HAMLET.\":\n",
        "        temp_text = \" \".join(ele[1:])\n",
        "        temp_text = re.sub(\"[^a-zA-Z,.?!']\",\" \",temp_text)\n",
        "        temp_text = temp_text.strip()\n",
        "        hamlet.append(temp_text)\n",
        "    if ele[0][:-1] == \"KING.\":\n",
        "        temp_text = \" \".join(ele[1:])\n",
        "        temp_text = re.sub(\"[^a-zA-Z,.?!']\",\" \",temp_text)\n",
        "        temp_text = temp_text.strip()\n",
        "        claudius.append(temp_text)"
      ]
    },
    {
      "cell_type": "markdown",
      "source": [
        "Here, we have used a separate counter for each character. If we identify a dialouge with positive sentiment value, we increase the counter by 1. On the contorary, if we identify a dialogue with negative sentiment value, we reduce the counter by 1.\n",
        "\n",
        "After iterating over all the dialouges of both the characters we can conclude that counter for Hamlet is higher in valaue as compared to Claudius. Thus, Hamlet has more number of dialouges with positive sentiment. So, if we quantify the sentiments of both the characters, we can conclude that Hamlet is a protagonist and Claudius is an antagonist."
      ],
      "metadata": {
        "id": "uGEDGYCdGVsq"
      },
      "id": "uGEDGYCdGVsq"
    },
    {
      "cell_type": "code",
      "execution_count": 8,
      "id": "74c166ec",
      "metadata": {
        "id": "74c166ec",
        "outputId": "8f89fe67-956f-495e-8b06-5f8a3af916bd",
        "colab": {
          "base_uri": "https://localhost:8080/"
        }
      },
      "outputs": [
        {
          "output_type": "stream",
          "name": "stdout",
          "text": [
            "45 13\n"
          ]
        }
      ],
      "source": [
        "hcount = 0 # sentiment count for Hamlet\n",
        "ccount = 0 # sentiment count for Claudius\n",
        "sid = SentimentIntensityAnalyzer()\n",
        "\n",
        "for ele in set(hamlet):\n",
        "    if sid.polarity_scores(ele)['compound']<0:\n",
        "        hcount-=1\n",
        "    elif sid.polarity_scores(ele)['compound']>0:\n",
        "        hcount+=1\n",
        "               \n",
        "for ele in set(claudius):\n",
        "    if sid.polarity_scores(ele)['compound'] < 0:\n",
        "        ccount-=1\n",
        "    elif sid.polarity_scores(ele)['compound'] > 0:\n",
        "        ccount+=1\n",
        "print(hcount,ccount)"
      ]
    },
    {
      "cell_type": "markdown",
      "source": [
        "We now generalize this process into a function and evaluate the positive sentiment score count for all the listed characters in the play. This function gives us the idea of the character sketch of each member of the play in terms of the postive, negative and neutral sentiment count from the all the dialogues spoken in the play.\n"
      ],
      "metadata": {
        "id": "tzGG2tdh5hS_"
      },
      "id": "tzGG2tdh5hS_"
    },
    {
      "cell_type": "code",
      "source": [
        "def character_quantifier(act,character):\n",
        "    \"\"\"\n",
        "    A function to extract dialouges of a character in the act and quantify their character sketch based on the dialogues with\n",
        "    positive sentiment\n",
        "    \"\"\"\n",
        "    if character == 'CLAUDIUS':\n",
        "        character = 'KING'\n",
        "    if character == 'GERTRUDE':\n",
        "        character = 'QUEEN'\n",
        "    char_diag = []\n",
        "    diag_count = 0 # counter for all the dialogues spoken by particular character.\n",
        "    \n",
        "    # Counters for VADER sentiment analyzer\n",
        "    vader_pos = 0 # counter for evaluating the positive sentiment strength of the character.\n",
        "    vader_neg = 0 # counter for evaluating the negative sentiment strength of the character.\n",
        "    vader_neu = 0 # counter for evaluating the neutralsentiment strength of the character.\n",
        "    \n",
        "    # Counters for Flair sentiment analyzer\n",
        "    flair_pos = 0 # postive sentiment count using flair package\n",
        "    flair_neg = 0 # negative sentiment count using flair package\n",
        "    flair_neu = 0 # neutral sentiment count using flair\n",
        "    \n",
        "    # Counters for textblob sentiment analyzer\n",
        "    tb_pos = 0 # postive sentiment count using textblob package\n",
        "    tb_neg = 0 # negative sentiment count using textblob package\n",
        "    tb_neu = 0 # neutral sentiment count using textblob\n",
        "\n",
        "    #storing all the dialogues for a character in a list\n",
        "    for ele in act:\n",
        "        if ele[0][:-1] == character+\".\":\n",
        "            temp_text = \"\".join(ele[1:])\n",
        "            temp_text = re.sub(\"[^a-zA-Z,.?!']\",\" \",temp_text)\n",
        "            temp_text = temp_text.strip()\n",
        "            temp_text = temp_text.lower()\n",
        "            char_diag.append(temp_text)\n",
        "    \n",
        "    # Using the VADER sentiment analyzer\n",
        "    for ele in set(char_diag):\n",
        "        if len(ele.split(\" \")) > 10:\n",
        "            diag_count +=1\n",
        "            if sid.polarity_scores(ele)['compound'] < 0:\n",
        "                vader_neg+=1\n",
        "            elif sid.polarity_scores(ele)['compound'] > 0:\n",
        "                vader_pos+=1\n",
        "            else:\n",
        "                vader_neu+=1\n",
        "    # Using the flair package for sentiment analysis\n",
        "    # for ele in set(char_diag):\n",
        "    #   sentence = Sentence(ele)\n",
        "    #   classifier.predict(sentence)\n",
        "    #   score = sentence.labels[0]\n",
        "    #   if \"POSITIVE\" in str(score):\n",
        "    #     flair_pos+=1\n",
        "    #   elif \"NEGATIVE\" in str(score):\n",
        "    #     flair_neg+=1\n",
        "    #   else:\n",
        "    #     flair_neu+=1\n",
        "\n",
        "    # Usinf Textblob sentiment analyzer\n",
        "    # for ele in set(char_diag):\n",
        "    #    testimonial = TextBlob(ele)\n",
        "    #    if testimonial.sentiment.polarity > 0:\n",
        "    #      tb_pos+=1\n",
        "    #    elif testimonial.sentiment.polarity < 0:\n",
        "    #      tb_neg+=1\n",
        "\n",
        "    return (diag_count, vader_pos,vader_neg,vader_neu, flair_pos,flair_neg, flair_neu, tb_pos, tb_neg, tb_neu, char_diag)"
      ],
      "metadata": {
        "id": "PDaPIv5bGYaV"
      },
      "id": "PDaPIv5bGYaV",
      "execution_count": 37,
      "outputs": []
    },
    {
      "cell_type": "code",
      "source": [
        "# Creating a dictionary to store the dialogue and sentiment count for each player\n",
        "data = {\"Character\":[], \"Dialogue_count\":[], \"VADER_Postive_Sentiment\":[], \"VADER_Negative_Sentiment\":[],\"VADER_Neutral_Sentiment\":[]}\n",
        "\n",
        "for ele in characters:\n",
        "  if ele != \"\":\n",
        "    data[\"Character\"].append(ele)\n",
        "    data['Dialogue_count'].append(character_quantifier(act,ele)[0])\n",
        "    data['VADER_Postive_Sentiment'].append(character_quantifier(act,ele)[1])\n",
        "    data['VADER_Negative_Sentiment'].append(character_quantifier(act,ele)[2])\n",
        "    data['VADER_Neutral_Sentiment'].append(character_quantifier(act,ele)[3])\n",
        "\n",
        "# presenting the data from the dictionary in a dataframe.\n",
        "Char_data = pd.DataFrame.from_dict(data)"
      ],
      "metadata": {
        "id": "hKOiy3EtCyaz"
      },
      "id": "hKOiy3EtCyaz",
      "execution_count": 38,
      "outputs": []
    },
    {
      "cell_type": "code",
      "source": [
        "# Cleaning the data frame to extract data pertaining to relevant characters\n",
        "Char_data = Char_data.dropna()\n",
        "Char_data = Char_data[Char_data['Dialogue_count']>0]\n",
        "Char_data['Positve_Sentiment_Score'] = Char_data['VADER_Postive_Sentiment'] - Char_data['VADER_Negative_Sentiment']"
      ],
      "metadata": {
        "id": "S0Zvhh8jHRqI"
      },
      "id": "S0Zvhh8jHRqI",
      "execution_count": 39,
      "outputs": []
    },
    {
      "cell_type": "code",
      "source": [
        "Char_data.sort_values(by = ['Dialogue_count'],ascending=False, inplace= True)\n",
        "Char_data"
      ],
      "metadata": {
        "colab": {
          "base_uri": "https://localhost:8080/",
          "height": 551
        },
        "id": "YakP5uIAbKNT",
        "outputId": "b47e2430-e8ac-4ca3-dcd5-c72d58780beb"
      },
      "id": "YakP5uIAbKNT",
      "execution_count": 40,
      "outputs": [
        {
          "output_type": "execute_result",
          "data": {
            "text/plain": [
              "       Character  Dialogue_count  VADER_Postive_Sentiment  \\\n",
              "0         HAMLET             198                      103   \n",
              "1       CLAUDIUS              48                       27   \n",
              "4       POLONIUS              44                       28   \n",
              "7        HORATIO              30                       12   \n",
              "5        LAERTES              29                       14   \n",
              "6        OPHELIA              27                       17   \n",
              "3       GERTRUDE              25                       10   \n",
              "11   ROSENCRANTZ              21                       11   \n",
              "12  GUILDENSTERN              11                        9   \n",
              "13     MARCELLUS               8                        3   \n",
              "16         OSRIC               8                        4   \n",
              "14      BARNARDO               5                        3   \n",
              "8     FORTINBRAS               4                        1   \n",
              "9      VOLTEMAND               1                        1   \n",
              "15     FRANCISCO               1                        0   \n",
              "17      REYNALDO               1                        1   \n",
              "\n",
              "    VADER_Negative_Sentiment  VADER_Neutral_Sentiment  Positve_Sentiment_Score  \n",
              "0                         69                       26                       34  \n",
              "1                         17                        4                       10  \n",
              "4                         14                        2                       14  \n",
              "7                         13                        5                       -1  \n",
              "5                         13                        2                        1  \n",
              "6                          8                        2                        9  \n",
              "3                         11                        4                       -1  \n",
              "11                         5                        5                        6  \n",
              "12                         2                        0                        7  \n",
              "13                         5                        0                       -2  \n",
              "16                         1                        3                        3  \n",
              "14                         1                        1                        2  \n",
              "8                          3                        0                       -2  \n",
              "9                          0                        0                        1  \n",
              "15                         1                        0                       -1  \n",
              "17                         0                        0                        1  "
            ],
            "text/html": [
              "\n",
              "  <div id=\"df-407cb462-79f7-4f5f-ad33-6e16022ed10c\">\n",
              "    <div class=\"colab-df-container\">\n",
              "      <div>\n",
              "<style scoped>\n",
              "    .dataframe tbody tr th:only-of-type {\n",
              "        vertical-align: middle;\n",
              "    }\n",
              "\n",
              "    .dataframe tbody tr th {\n",
              "        vertical-align: top;\n",
              "    }\n",
              "\n",
              "    .dataframe thead th {\n",
              "        text-align: right;\n",
              "    }\n",
              "</style>\n",
              "<table border=\"1\" class=\"dataframe\">\n",
              "  <thead>\n",
              "    <tr style=\"text-align: right;\">\n",
              "      <th></th>\n",
              "      <th>Character</th>\n",
              "      <th>Dialogue_count</th>\n",
              "      <th>VADER_Postive_Sentiment</th>\n",
              "      <th>VADER_Negative_Sentiment</th>\n",
              "      <th>VADER_Neutral_Sentiment</th>\n",
              "      <th>Positve_Sentiment_Score</th>\n",
              "    </tr>\n",
              "  </thead>\n",
              "  <tbody>\n",
              "    <tr>\n",
              "      <th>0</th>\n",
              "      <td>HAMLET</td>\n",
              "      <td>198</td>\n",
              "      <td>103</td>\n",
              "      <td>69</td>\n",
              "      <td>26</td>\n",
              "      <td>34</td>\n",
              "    </tr>\n",
              "    <tr>\n",
              "      <th>1</th>\n",
              "      <td>CLAUDIUS</td>\n",
              "      <td>48</td>\n",
              "      <td>27</td>\n",
              "      <td>17</td>\n",
              "      <td>4</td>\n",
              "      <td>10</td>\n",
              "    </tr>\n",
              "    <tr>\n",
              "      <th>4</th>\n",
              "      <td>POLONIUS</td>\n",
              "      <td>44</td>\n",
              "      <td>28</td>\n",
              "      <td>14</td>\n",
              "      <td>2</td>\n",
              "      <td>14</td>\n",
              "    </tr>\n",
              "    <tr>\n",
              "      <th>7</th>\n",
              "      <td>HORATIO</td>\n",
              "      <td>30</td>\n",
              "      <td>12</td>\n",
              "      <td>13</td>\n",
              "      <td>5</td>\n",
              "      <td>-1</td>\n",
              "    </tr>\n",
              "    <tr>\n",
              "      <th>5</th>\n",
              "      <td>LAERTES</td>\n",
              "      <td>29</td>\n",
              "      <td>14</td>\n",
              "      <td>13</td>\n",
              "      <td>2</td>\n",
              "      <td>1</td>\n",
              "    </tr>\n",
              "    <tr>\n",
              "      <th>6</th>\n",
              "      <td>OPHELIA</td>\n",
              "      <td>27</td>\n",
              "      <td>17</td>\n",
              "      <td>8</td>\n",
              "      <td>2</td>\n",
              "      <td>9</td>\n",
              "    </tr>\n",
              "    <tr>\n",
              "      <th>3</th>\n",
              "      <td>GERTRUDE</td>\n",
              "      <td>25</td>\n",
              "      <td>10</td>\n",
              "      <td>11</td>\n",
              "      <td>4</td>\n",
              "      <td>-1</td>\n",
              "    </tr>\n",
              "    <tr>\n",
              "      <th>11</th>\n",
              "      <td>ROSENCRANTZ</td>\n",
              "      <td>21</td>\n",
              "      <td>11</td>\n",
              "      <td>5</td>\n",
              "      <td>5</td>\n",
              "      <td>6</td>\n",
              "    </tr>\n",
              "    <tr>\n",
              "      <th>12</th>\n",
              "      <td>GUILDENSTERN</td>\n",
              "      <td>11</td>\n",
              "      <td>9</td>\n",
              "      <td>2</td>\n",
              "      <td>0</td>\n",
              "      <td>7</td>\n",
              "    </tr>\n",
              "    <tr>\n",
              "      <th>13</th>\n",
              "      <td>MARCELLUS</td>\n",
              "      <td>8</td>\n",
              "      <td>3</td>\n",
              "      <td>5</td>\n",
              "      <td>0</td>\n",
              "      <td>-2</td>\n",
              "    </tr>\n",
              "    <tr>\n",
              "      <th>16</th>\n",
              "      <td>OSRIC</td>\n",
              "      <td>8</td>\n",
              "      <td>4</td>\n",
              "      <td>1</td>\n",
              "      <td>3</td>\n",
              "      <td>3</td>\n",
              "    </tr>\n",
              "    <tr>\n",
              "      <th>14</th>\n",
              "      <td>BARNARDO</td>\n",
              "      <td>5</td>\n",
              "      <td>3</td>\n",
              "      <td>1</td>\n",
              "      <td>1</td>\n",
              "      <td>2</td>\n",
              "    </tr>\n",
              "    <tr>\n",
              "      <th>8</th>\n",
              "      <td>FORTINBRAS</td>\n",
              "      <td>4</td>\n",
              "      <td>1</td>\n",
              "      <td>3</td>\n",
              "      <td>0</td>\n",
              "      <td>-2</td>\n",
              "    </tr>\n",
              "    <tr>\n",
              "      <th>9</th>\n",
              "      <td>VOLTEMAND</td>\n",
              "      <td>1</td>\n",
              "      <td>1</td>\n",
              "      <td>0</td>\n",
              "      <td>0</td>\n",
              "      <td>1</td>\n",
              "    </tr>\n",
              "    <tr>\n",
              "      <th>15</th>\n",
              "      <td>FRANCISCO</td>\n",
              "      <td>1</td>\n",
              "      <td>0</td>\n",
              "      <td>1</td>\n",
              "      <td>0</td>\n",
              "      <td>-1</td>\n",
              "    </tr>\n",
              "    <tr>\n",
              "      <th>17</th>\n",
              "      <td>REYNALDO</td>\n",
              "      <td>1</td>\n",
              "      <td>1</td>\n",
              "      <td>0</td>\n",
              "      <td>0</td>\n",
              "      <td>1</td>\n",
              "    </tr>\n",
              "  </tbody>\n",
              "</table>\n",
              "</div>\n",
              "      <button class=\"colab-df-convert\" onclick=\"convertToInteractive('df-407cb462-79f7-4f5f-ad33-6e16022ed10c')\"\n",
              "              title=\"Convert this dataframe to an interactive table.\"\n",
              "              style=\"display:none;\">\n",
              "        \n",
              "  <svg xmlns=\"http://www.w3.org/2000/svg\" height=\"24px\"viewBox=\"0 0 24 24\"\n",
              "       width=\"24px\">\n",
              "    <path d=\"M0 0h24v24H0V0z\" fill=\"none\"/>\n",
              "    <path d=\"M18.56 5.44l.94 2.06.94-2.06 2.06-.94-2.06-.94-.94-2.06-.94 2.06-2.06.94zm-11 1L8.5 8.5l.94-2.06 2.06-.94-2.06-.94L8.5 2.5l-.94 2.06-2.06.94zm10 10l.94 2.06.94-2.06 2.06-.94-2.06-.94-.94-2.06-.94 2.06-2.06.94z\"/><path d=\"M17.41 7.96l-1.37-1.37c-.4-.4-.92-.59-1.43-.59-.52 0-1.04.2-1.43.59L10.3 9.45l-7.72 7.72c-.78.78-.78 2.05 0 2.83L4 21.41c.39.39.9.59 1.41.59.51 0 1.02-.2 1.41-.59l7.78-7.78 2.81-2.81c.8-.78.8-2.07 0-2.86zM5.41 20L4 18.59l7.72-7.72 1.47 1.35L5.41 20z\"/>\n",
              "  </svg>\n",
              "      </button>\n",
              "      \n",
              "  <style>\n",
              "    .colab-df-container {\n",
              "      display:flex;\n",
              "      flex-wrap:wrap;\n",
              "      gap: 12px;\n",
              "    }\n",
              "\n",
              "    .colab-df-convert {\n",
              "      background-color: #E8F0FE;\n",
              "      border: none;\n",
              "      border-radius: 50%;\n",
              "      cursor: pointer;\n",
              "      display: none;\n",
              "      fill: #1967D2;\n",
              "      height: 32px;\n",
              "      padding: 0 0 0 0;\n",
              "      width: 32px;\n",
              "    }\n",
              "\n",
              "    .colab-df-convert:hover {\n",
              "      background-color: #E2EBFA;\n",
              "      box-shadow: 0px 1px 2px rgba(60, 64, 67, 0.3), 0px 1px 3px 1px rgba(60, 64, 67, 0.15);\n",
              "      fill: #174EA6;\n",
              "    }\n",
              "\n",
              "    [theme=dark] .colab-df-convert {\n",
              "      background-color: #3B4455;\n",
              "      fill: #D2E3FC;\n",
              "    }\n",
              "\n",
              "    [theme=dark] .colab-df-convert:hover {\n",
              "      background-color: #434B5C;\n",
              "      box-shadow: 0px 1px 3px 1px rgba(0, 0, 0, 0.15);\n",
              "      filter: drop-shadow(0px 1px 2px rgba(0, 0, 0, 0.3));\n",
              "      fill: #FFFFFF;\n",
              "    }\n",
              "  </style>\n",
              "\n",
              "      <script>\n",
              "        const buttonEl =\n",
              "          document.querySelector('#df-407cb462-79f7-4f5f-ad33-6e16022ed10c button.colab-df-convert');\n",
              "        buttonEl.style.display =\n",
              "          google.colab.kernel.accessAllowed ? 'block' : 'none';\n",
              "\n",
              "        async function convertToInteractive(key) {\n",
              "          const element = document.querySelector('#df-407cb462-79f7-4f5f-ad33-6e16022ed10c');\n",
              "          const dataTable =\n",
              "            await google.colab.kernel.invokeFunction('convertToInteractive',\n",
              "                                                     [key], {});\n",
              "          if (!dataTable) return;\n",
              "\n",
              "          const docLinkHtml = 'Like what you see? Visit the ' +\n",
              "            '<a target=\"_blank\" href=https://colab.research.google.com/notebooks/data_table.ipynb>data table notebook</a>'\n",
              "            + ' to learn more about interactive tables.';\n",
              "          element.innerHTML = '';\n",
              "          dataTable['output_type'] = 'display_data';\n",
              "          await google.colab.output.renderOutput(dataTable, element);\n",
              "          const docLink = document.createElement('div');\n",
              "          docLink.innerHTML = docLinkHtml;\n",
              "          element.appendChild(docLink);\n",
              "        }\n",
              "      </script>\n",
              "    </div>\n",
              "  </div>\n",
              "  "
            ]
          },
          "metadata": {},
          "execution_count": 40
        }
      ]
    },
    {
      "cell_type": "markdown",
      "source": [
        "The \"Positve_Sentiment_Score\" column is calculated by subtracting all the sentences with negaive sentiments from the sentences with postive sentiments.\n",
        "\n",
        "By observing the column \"Positve_Sentiment_Score\" we can conclude that the  \n",
        "\n",
        "*   character \"Hamlet\" is closest to being a protagonist. However, the high negative sentiment count is due to his hatred towards his uncle and his rash and impulsive acts.\n",
        "*   Similary, Claudius has a relatively low \"Positive Sentiment Score\", which proves that he play a villain in this play\n",
        "\n",
        "*   Gertrude, though caring for Hamlet, is a shallow, weak woman who seeks affection and status more urgently than moral rectitude or truth. This is evident due to a negative value of the \"Positive Sentiment Score\".\n",
        "\n",
        "Thus, we are able to quantify the charactershektch of the lead characters in the play.\n",
        "\n",
        "Reference for character sketch - https://www.sparknotes.com/shakespeare/hamlet/characters/\n",
        "\n",
        "\n",
        "\n",
        "\n",
        "\n",
        "\n"
      ],
      "metadata": {
        "id": "DEyalfeWcS0g"
      },
      "id": "DEyalfeWcS0g"
    }
  ],
  "metadata": {
    "kernelspec": {
      "display_name": "Python 3 (ipykernel)",
      "language": "python",
      "name": "python3"
    },
    "language_info": {
      "codemirror_mode": {
        "name": "ipython",
        "version": 3
      },
      "file_extension": ".py",
      "mimetype": "text/x-python",
      "name": "python",
      "nbconvert_exporter": "python",
      "pygments_lexer": "ipython3",
      "version": "3.8.12"
    },
    "colab": {
      "name": "Assignment2_Sentiment Analyzer.ipynb",
      "provenance": [],
      "collapsed_sections": [],
      "include_colab_link": true
    },
    "accelerator": "GPU"
  },
  "nbformat": 4,
  "nbformat_minor": 5
}